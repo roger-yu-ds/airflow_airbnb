{
 "cells": [
  {
   "cell_type": "markdown",
   "id": "fcaa91df-0fd6-4b9f-8ba6-10e079c03291",
   "metadata": {},
   "source": [
    "# Introduction\n",
    "\n",
    "This notebook performs EDA on the Airbnb listings data http://data.insideairbnb.com/australia/nsw/sydney/2021-04-10/data/listings.csv.gz."
   ]
  },
  {
   "cell_type": "code",
   "execution_count": 1,
   "id": "fa631622-67e1-4f32-81e9-42e539ad93a6",
   "metadata": {
    "tags": []
   },
   "outputs": [],
   "source": [
    "import os\n",
    "import gzip\n",
    "import shutil\n",
    "import requests\n",
    "import pandas as pd\n",
    "from pathlib import Path\n",
    "from dotenv import (\n",
    "    load_dotenv,\n",
    "    find_dotenv\n",
    ")\n",
    "from pandas_profiling import ProfileReport\n",
    "import sweetviz as sv\n",
    "import psycopg2"
   ]
  },
  {
   "cell_type": "code",
   "execution_count": 2,
   "id": "bf256dd3-ec6d-4d1d-8f38-175acbc83dfc",
   "metadata": {
    "tags": []
   },
   "outputs": [],
   "source": [
    "load_dotenv(find_dotenv())\n",
    "\n",
    "project_dir = Path(find_dotenv()).parent\n",
    "data_dir = project_dir / 'data'\n",
    "raw_data_dir = data_dir / 'raw'\n",
    "interim_data_dir = data_dir / 'interim'\n",
    "reports_dir = project_dir / 'reports'"
   ]
  },
  {
   "cell_type": "markdown",
   "id": "3b9937b9-46b6-432d-8699-d28e20f184b4",
   "metadata": {
    "execution": {
     "iopub.execute_input": "2021-05-07T00:35:31.312312Z",
     "iopub.status.busy": "2021-05-07T00:35:31.311317Z",
     "iopub.status.idle": "2021-05-07T00:35:31.339516Z",
     "shell.execute_reply": "2021-05-07T00:35:31.336565Z",
     "shell.execute_reply.started": "2021-05-07T00:35:31.312312Z"
    }
   },
   "source": [
    "# Load data"
   ]
  },
  {
   "cell_type": "code",
   "execution_count": 15,
   "id": "b1ecd461-44d0-4527-9817-402ce21f3e4f",
   "metadata": {
    "execution": {
     "iopub.execute_input": "2021-05-07T04:17:04.088975Z",
     "iopub.status.busy": "2021-05-07T04:17:04.088645Z",
     "iopub.status.idle": "2021-05-07T04:17:05.980770Z",
     "shell.execute_reply": "2021-05-07T04:17:05.979648Z",
     "shell.execute_reply.started": "2021-05-07T04:17:04.088937Z"
    },
    "tags": []
   },
   "outputs": [],
   "source": [
    "url = 'http://data.insideairbnb.com/australia/nsw/sydney/2021-04-10/data/listings.csv.gz'\n",
    "df = pd.read_csv(url, compression='gzip')"
   ]
  },
  {
   "cell_type": "code",
   "execution_count": 16,
   "id": "74dfe538-1337-4b37-9556-e71d2a5d24c4",
   "metadata": {
    "execution": {
     "iopub.execute_input": "2021-05-07T04:17:12.470905Z",
     "iopub.status.busy": "2021-05-07T04:17:12.470555Z",
     "iopub.status.idle": "2021-05-07T04:17:12.554248Z",
     "shell.execute_reply": "2021-05-07T04:17:12.553046Z",
     "shell.execute_reply.started": "2021-05-07T04:17:12.470873Z"
    },
    "tags": []
   },
   "outputs": [
    {
     "data": {
      "text/html": [
       "<div>\n",
       "<style scoped>\n",
       "    .dataframe tbody tr th:only-of-type {\n",
       "        vertical-align: middle;\n",
       "    }\n",
       "\n",
       "    .dataframe tbody tr th {\n",
       "        vertical-align: top;\n",
       "    }\n",
       "\n",
       "    .dataframe thead th {\n",
       "        text-align: right;\n",
       "    }\n",
       "</style>\n",
       "<table border=\"1\" class=\"dataframe\">\n",
       "  <thead>\n",
       "    <tr style=\"text-align: right;\">\n",
       "      <th></th>\n",
       "      <th>id</th>\n",
       "      <th>listing_url</th>\n",
       "      <th>scrape_id</th>\n",
       "      <th>last_scraped</th>\n",
       "      <th>name</th>\n",
       "      <th>description</th>\n",
       "      <th>neighborhood_overview</th>\n",
       "      <th>picture_url</th>\n",
       "      <th>host_id</th>\n",
       "      <th>host_url</th>\n",
       "      <th>...</th>\n",
       "      <th>review_scores_communication</th>\n",
       "      <th>review_scores_location</th>\n",
       "      <th>review_scores_value</th>\n",
       "      <th>license</th>\n",
       "      <th>instant_bookable</th>\n",
       "      <th>calculated_host_listings_count</th>\n",
       "      <th>calculated_host_listings_count_entire_homes</th>\n",
       "      <th>calculated_host_listings_count_private_rooms</th>\n",
       "      <th>calculated_host_listings_count_shared_rooms</th>\n",
       "      <th>reviews_per_month</th>\n",
       "    </tr>\n",
       "  </thead>\n",
       "  <tbody>\n",
       "    <tr>\n",
       "      <th>0</th>\n",
       "      <td>11156</td>\n",
       "      <td>https://www.airbnb.com/rooms/11156</td>\n",
       "      <td>20210410042103</td>\n",
       "      <td>2021-04-12</td>\n",
       "      <td>An Oasis in the City</td>\n",
       "      <td>Very central to the city which can be reached ...</td>\n",
       "      <td>It is very close to everything and everywhere,...</td>\n",
       "      <td>https://a0.muscache.com/pictures/2797669/17895...</td>\n",
       "      <td>40855</td>\n",
       "      <td>https://www.airbnb.com/users/show/40855</td>\n",
       "      <td>...</td>\n",
       "      <td>10.0</td>\n",
       "      <td>10.0</td>\n",
       "      <td>10.0</td>\n",
       "      <td>NaN</td>\n",
       "      <td>f</td>\n",
       "      <td>1</td>\n",
       "      <td>0</td>\n",
       "      <td>1</td>\n",
       "      <td>0</td>\n",
       "      <td>1.42</td>\n",
       "    </tr>\n",
       "    <tr>\n",
       "      <th>1</th>\n",
       "      <td>12351</td>\n",
       "      <td>https://www.airbnb.com/rooms/12351</td>\n",
       "      <td>20210410042103</td>\n",
       "      <td>2021-04-15</td>\n",
       "      <td>Sydney City &amp; Harbour at the door</td>\n",
       "      <td>Come stay with Vinh &amp; Stuart (Awarded as one o...</td>\n",
       "      <td>Pyrmont is an inner-city village of Sydney, on...</td>\n",
       "      <td>https://a0.muscache.com/pictures/763ad5c8-c951...</td>\n",
       "      <td>17061</td>\n",
       "      <td>https://www.airbnb.com/users/show/17061</td>\n",
       "      <td>...</td>\n",
       "      <td>10.0</td>\n",
       "      <td>10.0</td>\n",
       "      <td>10.0</td>\n",
       "      <td>NaN</td>\n",
       "      <td>f</td>\n",
       "      <td>2</td>\n",
       "      <td>0</td>\n",
       "      <td>2</td>\n",
       "      <td>0</td>\n",
       "      <td>4.03</td>\n",
       "    </tr>\n",
       "    <tr>\n",
       "      <th>2</th>\n",
       "      <td>14250</td>\n",
       "      <td>https://www.airbnb.com/rooms/14250</td>\n",
       "      <td>20210410042103</td>\n",
       "      <td>2021-04-14</td>\n",
       "      <td>Manly Harbour House</td>\n",
       "      <td>Beautifully renovated, spacious and quiet, our...</td>\n",
       "      <td>Balgowlah Heights is one of the most prestigio...</td>\n",
       "      <td>https://a0.muscache.com/pictures/56935671/fdb8...</td>\n",
       "      <td>55948</td>\n",
       "      <td>https://www.airbnb.com/users/show/55948</td>\n",
       "      <td>...</td>\n",
       "      <td>8.0</td>\n",
       "      <td>9.0</td>\n",
       "      <td>8.0</td>\n",
       "      <td>NaN</td>\n",
       "      <td>f</td>\n",
       "      <td>2</td>\n",
       "      <td>2</td>\n",
       "      <td>0</td>\n",
       "      <td>0</td>\n",
       "      <td>0.03</td>\n",
       "    </tr>\n",
       "    <tr>\n",
       "      <th>3</th>\n",
       "      <td>15253</td>\n",
       "      <td>https://www.airbnb.com/rooms/15253</td>\n",
       "      <td>20210410042103</td>\n",
       "      <td>2021-04-12</td>\n",
       "      <td>Unique Designer Rooftop Apartment in City Loca...</td>\n",
       "      <td>Penthouse living at it best ... You will be st...</td>\n",
       "      <td>The location is really central and there is nu...</td>\n",
       "      <td>https://a0.muscache.com/pictures/46dcb8a1-5d5b...</td>\n",
       "      <td>59850</td>\n",
       "      <td>https://www.airbnb.com/users/show/59850</td>\n",
       "      <td>...</td>\n",
       "      <td>10.0</td>\n",
       "      <td>10.0</td>\n",
       "      <td>9.0</td>\n",
       "      <td>NaN</td>\n",
       "      <td>t</td>\n",
       "      <td>1</td>\n",
       "      <td>0</td>\n",
       "      <td>1</td>\n",
       "      <td>0</td>\n",
       "      <td>3.30</td>\n",
       "    </tr>\n",
       "    <tr>\n",
       "      <th>4</th>\n",
       "      <td>44545</td>\n",
       "      <td>https://www.airbnb.com/rooms/44545</td>\n",
       "      <td>20210410042103</td>\n",
       "      <td>2021-04-13</td>\n",
       "      <td>Sunny Darlinghurst Warehouse Apartment</td>\n",
       "      <td>Sunny warehouse/loft apartment in the heart of...</td>\n",
       "      <td>Darlinghurst is home to some of Sydney's best ...</td>\n",
       "      <td>https://a0.muscache.com/pictures/a88d8e14-4f63...</td>\n",
       "      <td>112237</td>\n",
       "      <td>https://www.airbnb.com/users/show/112237</td>\n",
       "      <td>...</td>\n",
       "      <td>10.0</td>\n",
       "      <td>10.0</td>\n",
       "      <td>10.0</td>\n",
       "      <td>NaN</td>\n",
       "      <td>f</td>\n",
       "      <td>1</td>\n",
       "      <td>1</td>\n",
       "      <td>0</td>\n",
       "      <td>0</td>\n",
       "      <td>0.60</td>\n",
       "    </tr>\n",
       "    <tr>\n",
       "      <th>...</th>\n",
       "      <td>...</td>\n",
       "      <td>...</td>\n",
       "      <td>...</td>\n",
       "      <td>...</td>\n",
       "      <td>...</td>\n",
       "      <td>...</td>\n",
       "      <td>...</td>\n",
       "      <td>...</td>\n",
       "      <td>...</td>\n",
       "      <td>...</td>\n",
       "      <td>...</td>\n",
       "      <td>...</td>\n",
       "      <td>...</td>\n",
       "      <td>...</td>\n",
       "      <td>...</td>\n",
       "      <td>...</td>\n",
       "      <td>...</td>\n",
       "      <td>...</td>\n",
       "      <td>...</td>\n",
       "      <td>...</td>\n",
       "      <td>...</td>\n",
       "    </tr>\n",
       "    <tr>\n",
       "      <th>32674</th>\n",
       "      <td>49118065</td>\n",
       "      <td>https://www.airbnb.com/rooms/49118065</td>\n",
       "      <td>20210410042103</td>\n",
       "      <td>2021-04-12</td>\n",
       "      <td>Marvellous Marrickville apartment, 15 mins to ...</td>\n",
       "      <td>For those wanting easy access to inner Sydney'...</td>\n",
       "      <td>NaN</td>\n",
       "      <td>https://a0.muscache.com/pictures/94a3bd3f-4ac2...</td>\n",
       "      <td>4358703</td>\n",
       "      <td>https://www.airbnb.com/users/show/4358703</td>\n",
       "      <td>...</td>\n",
       "      <td>NaN</td>\n",
       "      <td>NaN</td>\n",
       "      <td>NaN</td>\n",
       "      <td>NaN</td>\n",
       "      <td>t</td>\n",
       "      <td>3</td>\n",
       "      <td>3</td>\n",
       "      <td>0</td>\n",
       "      <td>0</td>\n",
       "      <td>NaN</td>\n",
       "    </tr>\n",
       "    <tr>\n",
       "      <th>32675</th>\n",
       "      <td>49118280</td>\n",
       "      <td>https://www.airbnb.com/rooms/49118280</td>\n",
       "      <td>20210410042103</td>\n",
       "      <td>2021-04-12</td>\n",
       "      <td>Peaceful Pittwater Views from Eclectic Getaway</td>\n",
       "      <td>Immerse yourself in this north facing peaceful...</td>\n",
       "      <td>NaN</td>\n",
       "      <td>https://a0.muscache.com/pictures/96d93fbd-590d...</td>\n",
       "      <td>95214788</td>\n",
       "      <td>https://www.airbnb.com/users/show/95214788</td>\n",
       "      <td>...</td>\n",
       "      <td>NaN</td>\n",
       "      <td>NaN</td>\n",
       "      <td>NaN</td>\n",
       "      <td>NaN</td>\n",
       "      <td>t</td>\n",
       "      <td>35</td>\n",
       "      <td>35</td>\n",
       "      <td>0</td>\n",
       "      <td>0</td>\n",
       "      <td>NaN</td>\n",
       "    </tr>\n",
       "    <tr>\n",
       "      <th>32676</th>\n",
       "      <td>49118321</td>\n",
       "      <td>https://www.airbnb.com/rooms/49118321</td>\n",
       "      <td>20210410042103</td>\n",
       "      <td>2021-04-12</td>\n",
       "      <td>MQ13 Convinent 2 Bedroom Close MQ Shopping Centre</td>\n",
       "      <td>Brand new luxury 2 bedroom apartments in the h...</td>\n",
       "      <td>NaN</td>\n",
       "      <td>https://a0.muscache.com/pictures/ad703b5e-e9d9...</td>\n",
       "      <td>382207272</td>\n",
       "      <td>https://www.airbnb.com/users/show/382207272</td>\n",
       "      <td>...</td>\n",
       "      <td>NaN</td>\n",
       "      <td>NaN</td>\n",
       "      <td>NaN</td>\n",
       "      <td>NaN</td>\n",
       "      <td>f</td>\n",
       "      <td>26</td>\n",
       "      <td>26</td>\n",
       "      <td>0</td>\n",
       "      <td>0</td>\n",
       "      <td>NaN</td>\n",
       "    </tr>\n",
       "    <tr>\n",
       "      <th>32677</th>\n",
       "      <td>49118480</td>\n",
       "      <td>https://www.airbnb.com/rooms/49118480</td>\n",
       "      <td>20210410042103</td>\n",
       "      <td>2021-04-13</td>\n",
       "      <td>FD50 Newly Furnished 1 Bedroom in Five Dock</td>\n",
       "      <td>Five dock is a real gem in waterside centrally...</td>\n",
       "      <td>NaN</td>\n",
       "      <td>https://a0.muscache.com/pictures/b6c19d4b-424f...</td>\n",
       "      <td>382207272</td>\n",
       "      <td>https://www.airbnb.com/users/show/382207272</td>\n",
       "      <td>...</td>\n",
       "      <td>NaN</td>\n",
       "      <td>NaN</td>\n",
       "      <td>NaN</td>\n",
       "      <td>NaN</td>\n",
       "      <td>f</td>\n",
       "      <td>26</td>\n",
       "      <td>26</td>\n",
       "      <td>0</td>\n",
       "      <td>0</td>\n",
       "      <td>NaN</td>\n",
       "    </tr>\n",
       "    <tr>\n",
       "      <th>32678</th>\n",
       "      <td>49120451</td>\n",
       "      <td>https://www.airbnb.com/rooms/49120451</td>\n",
       "      <td>20210410042103</td>\n",
       "      <td>2021-04-12</td>\n",
       "      <td>Top-level with massive Sydney CBD view Apartment</td>\n",
       "      <td>Perfectly located in the heart of Rhodes, this...</td>\n",
       "      <td>NaN</td>\n",
       "      <td>https://a0.muscache.com/pictures/miso/Hosting-...</td>\n",
       "      <td>307999902</td>\n",
       "      <td>https://www.airbnb.com/users/show/307999902</td>\n",
       "      <td>...</td>\n",
       "      <td>NaN</td>\n",
       "      <td>NaN</td>\n",
       "      <td>NaN</td>\n",
       "      <td>NaN</td>\n",
       "      <td>f</td>\n",
       "      <td>7</td>\n",
       "      <td>7</td>\n",
       "      <td>0</td>\n",
       "      <td>0</td>\n",
       "      <td>NaN</td>\n",
       "    </tr>\n",
       "  </tbody>\n",
       "</table>\n",
       "<p>32679 rows × 74 columns</p>\n",
       "</div>"
      ],
      "text/plain": [
       "             id                            listing_url       scrape_id  \\\n",
       "0         11156     https://www.airbnb.com/rooms/11156  20210410042103   \n",
       "1         12351     https://www.airbnb.com/rooms/12351  20210410042103   \n",
       "2         14250     https://www.airbnb.com/rooms/14250  20210410042103   \n",
       "3         15253     https://www.airbnb.com/rooms/15253  20210410042103   \n",
       "4         44545     https://www.airbnb.com/rooms/44545  20210410042103   \n",
       "...         ...                                    ...             ...   \n",
       "32674  49118065  https://www.airbnb.com/rooms/49118065  20210410042103   \n",
       "32675  49118280  https://www.airbnb.com/rooms/49118280  20210410042103   \n",
       "32676  49118321  https://www.airbnb.com/rooms/49118321  20210410042103   \n",
       "32677  49118480  https://www.airbnb.com/rooms/49118480  20210410042103   \n",
       "32678  49120451  https://www.airbnb.com/rooms/49120451  20210410042103   \n",
       "\n",
       "      last_scraped                                               name  \\\n",
       "0       2021-04-12                               An Oasis in the City   \n",
       "1       2021-04-15                  Sydney City & Harbour at the door   \n",
       "2       2021-04-14                                Manly Harbour House   \n",
       "3       2021-04-12  Unique Designer Rooftop Apartment in City Loca...   \n",
       "4       2021-04-13             Sunny Darlinghurst Warehouse Apartment   \n",
       "...            ...                                                ...   \n",
       "32674   2021-04-12  Marvellous Marrickville apartment, 15 mins to ...   \n",
       "32675   2021-04-12     Peaceful Pittwater Views from Eclectic Getaway   \n",
       "32676   2021-04-12  MQ13 Convinent 2 Bedroom Close MQ Shopping Centre   \n",
       "32677   2021-04-13        FD50 Newly Furnished 1 Bedroom in Five Dock   \n",
       "32678   2021-04-12   Top-level with massive Sydney CBD view Apartment   \n",
       "\n",
       "                                             description  \\\n",
       "0      Very central to the city which can be reached ...   \n",
       "1      Come stay with Vinh & Stuart (Awarded as one o...   \n",
       "2      Beautifully renovated, spacious and quiet, our...   \n",
       "3      Penthouse living at it best ... You will be st...   \n",
       "4      Sunny warehouse/loft apartment in the heart of...   \n",
       "...                                                  ...   \n",
       "32674  For those wanting easy access to inner Sydney'...   \n",
       "32675  Immerse yourself in this north facing peaceful...   \n",
       "32676  Brand new luxury 2 bedroom apartments in the h...   \n",
       "32677  Five dock is a real gem in waterside centrally...   \n",
       "32678  Perfectly located in the heart of Rhodes, this...   \n",
       "\n",
       "                                   neighborhood_overview  \\\n",
       "0      It is very close to everything and everywhere,...   \n",
       "1      Pyrmont is an inner-city village of Sydney, on...   \n",
       "2      Balgowlah Heights is one of the most prestigio...   \n",
       "3      The location is really central and there is nu...   \n",
       "4      Darlinghurst is home to some of Sydney's best ...   \n",
       "...                                                  ...   \n",
       "32674                                                NaN   \n",
       "32675                                                NaN   \n",
       "32676                                                NaN   \n",
       "32677                                                NaN   \n",
       "32678                                                NaN   \n",
       "\n",
       "                                             picture_url    host_id  \\\n",
       "0      https://a0.muscache.com/pictures/2797669/17895...      40855   \n",
       "1      https://a0.muscache.com/pictures/763ad5c8-c951...      17061   \n",
       "2      https://a0.muscache.com/pictures/56935671/fdb8...      55948   \n",
       "3      https://a0.muscache.com/pictures/46dcb8a1-5d5b...      59850   \n",
       "4      https://a0.muscache.com/pictures/a88d8e14-4f63...     112237   \n",
       "...                                                  ...        ...   \n",
       "32674  https://a0.muscache.com/pictures/94a3bd3f-4ac2...    4358703   \n",
       "32675  https://a0.muscache.com/pictures/96d93fbd-590d...   95214788   \n",
       "32676  https://a0.muscache.com/pictures/ad703b5e-e9d9...  382207272   \n",
       "32677  https://a0.muscache.com/pictures/b6c19d4b-424f...  382207272   \n",
       "32678  https://a0.muscache.com/pictures/miso/Hosting-...  307999902   \n",
       "\n",
       "                                          host_url  ...  \\\n",
       "0          https://www.airbnb.com/users/show/40855  ...   \n",
       "1          https://www.airbnb.com/users/show/17061  ...   \n",
       "2          https://www.airbnb.com/users/show/55948  ...   \n",
       "3          https://www.airbnb.com/users/show/59850  ...   \n",
       "4         https://www.airbnb.com/users/show/112237  ...   \n",
       "...                                            ...  ...   \n",
       "32674    https://www.airbnb.com/users/show/4358703  ...   \n",
       "32675   https://www.airbnb.com/users/show/95214788  ...   \n",
       "32676  https://www.airbnb.com/users/show/382207272  ...   \n",
       "32677  https://www.airbnb.com/users/show/382207272  ...   \n",
       "32678  https://www.airbnb.com/users/show/307999902  ...   \n",
       "\n",
       "      review_scores_communication review_scores_location review_scores_value  \\\n",
       "0                            10.0                   10.0                10.0   \n",
       "1                            10.0                   10.0                10.0   \n",
       "2                             8.0                    9.0                 8.0   \n",
       "3                            10.0                   10.0                 9.0   \n",
       "4                            10.0                   10.0                10.0   \n",
       "...                           ...                    ...                 ...   \n",
       "32674                         NaN                    NaN                 NaN   \n",
       "32675                         NaN                    NaN                 NaN   \n",
       "32676                         NaN                    NaN                 NaN   \n",
       "32677                         NaN                    NaN                 NaN   \n",
       "32678                         NaN                    NaN                 NaN   \n",
       "\n",
       "      license instant_bookable calculated_host_listings_count  \\\n",
       "0         NaN                f                              1   \n",
       "1         NaN                f                              2   \n",
       "2         NaN                f                              2   \n",
       "3         NaN                t                              1   \n",
       "4         NaN                f                              1   \n",
       "...       ...              ...                            ...   \n",
       "32674     NaN                t                              3   \n",
       "32675     NaN                t                             35   \n",
       "32676     NaN                f                             26   \n",
       "32677     NaN                f                             26   \n",
       "32678     NaN                f                              7   \n",
       "\n",
       "      calculated_host_listings_count_entire_homes  \\\n",
       "0                                               0   \n",
       "1                                               0   \n",
       "2                                               2   \n",
       "3                                               0   \n",
       "4                                               1   \n",
       "...                                           ...   \n",
       "32674                                           3   \n",
       "32675                                          35   \n",
       "32676                                          26   \n",
       "32677                                          26   \n",
       "32678                                           7   \n",
       "\n",
       "      calculated_host_listings_count_private_rooms  \\\n",
       "0                                                1   \n",
       "1                                                2   \n",
       "2                                                0   \n",
       "3                                                1   \n",
       "4                                                0   \n",
       "...                                            ...   \n",
       "32674                                            0   \n",
       "32675                                            0   \n",
       "32676                                            0   \n",
       "32677                                            0   \n",
       "32678                                            0   \n",
       "\n",
       "      calculated_host_listings_count_shared_rooms reviews_per_month  \n",
       "0                                               0              1.42  \n",
       "1                                               0              4.03  \n",
       "2                                               0              0.03  \n",
       "3                                               0              3.30  \n",
       "4                                               0              0.60  \n",
       "...                                           ...               ...  \n",
       "32674                                           0               NaN  \n",
       "32675                                           0               NaN  \n",
       "32676                                           0               NaN  \n",
       "32677                                           0               NaN  \n",
       "32678                                           0               NaN  \n",
       "\n",
       "[32679 rows x 74 columns]"
      ]
     },
     "execution_count": 16,
     "metadata": {},
     "output_type": "execute_result"
    }
   ],
   "source": [
    "df"
   ]
  },
  {
   "cell_type": "code",
   "execution_count": 17,
   "id": "181edf12-87e0-4284-85ef-0573382aadbd",
   "metadata": {},
   "outputs": [],
   "source": [
    "path = interim_data_dir / 'listings'\n",
    "df.to_csv(path.with_suffix('.csv'), index=False)\n",
    "df.to_parquet(path.with_suffix('.parquet'), index=False)"
   ]
  },
  {
   "cell_type": "markdown",
   "id": "a0688611-8790-427c-84b2-c88b06ce0bd9",
   "metadata": {
    "execution": {
     "iopub.execute_input": "2021-05-07T01:18:07.049734Z",
     "iopub.status.busy": "2021-05-07T01:18:07.049734Z",
     "iopub.status.idle": "2021-05-07T01:18:07.059736Z",
     "shell.execute_reply": "2021-05-07T01:18:07.056742Z",
     "shell.execute_reply.started": "2021-05-07T01:18:07.049734Z"
    },
    "tags": []
   },
   "source": [
    "# Create profile report"
   ]
  },
  {
   "cell_type": "code",
   "execution_count": 18,
   "id": "0591adac-30cc-4f17-8604-9e273ba2505e",
   "metadata": {
    "execution": {
     "iopub.execute_input": "2021-05-07T04:18:34.745652Z",
     "iopub.status.busy": "2021-05-07T04:18:34.745300Z",
     "iopub.status.idle": "2021-05-07T04:25:14.500379Z",
     "shell.execute_reply": "2021-05-07T04:25:14.498907Z",
     "shell.execute_reply.started": "2021-05-07T04:18:34.745593Z"
    },
    "tags": []
   },
   "outputs": [
    {
     "data": {
      "application/vnd.jupyter.widget-view+json": {
       "model_id": "4079ec78d944465fba373bab34b86e77",
       "version_major": 2,
       "version_minor": 0
      },
      "text/plain": [
       "Summarize dataset:   0%|          | 0/87 [00:00<?, ?it/s]"
      ]
     },
     "metadata": {},
     "output_type": "display_data"
    },
    {
     "data": {
      "application/vnd.jupyter.widget-view+json": {
       "model_id": "36f8ce2ffe0d40b99cf456e81e6ad400",
       "version_major": 2,
       "version_minor": 0
      },
      "text/plain": [
       "Generate report structure:   0%|          | 0/1 [00:00<?, ?it/s]"
      ]
     },
     "metadata": {},
     "output_type": "display_data"
    },
    {
     "data": {
      "application/vnd.jupyter.widget-view+json": {
       "model_id": "759b459d402a416f97bc9e117262b2ca",
       "version_major": 2,
       "version_minor": 0
      },
      "text/plain": [
       "Render HTML:   0%|          | 0/1 [00:00<?, ?it/s]"
      ]
     },
     "metadata": {},
     "output_type": "display_data"
    },
    {
     "data": {
      "application/vnd.jupyter.widget-view+json": {
       "model_id": "1fa84b2e5fba458b9c07b0417c256d22",
       "version_major": 2,
       "version_minor": 0
      },
      "text/plain": [
       "Export report to file:   0%|          | 0/1 [00:00<?, ?it/s]"
      ]
     },
     "metadata": {},
     "output_type": "display_data"
    }
   ],
   "source": [
    "profile_report = ProfileReport(df,\n",
    "                               title='Airbnb listing profile report',\n",
    "                               explorative=True)\n",
    "path = reports_dir / 'profile_report_airbnb'\n",
    "profile_report.to_file(path.with_suffix('.html'))"
   ]
  },
  {
   "cell_type": "markdown",
   "id": "752edd63-1ee2-4323-9b95-d0a2087e4383",
   "metadata": {},
   "source": [
    "# Create sweetviz report"
   ]
  },
  {
   "cell_type": "code",
   "execution_count": 19,
   "id": "d62fe951-6d18-412f-bb2b-8549f9a99764",
   "metadata": {
    "execution": {
     "iopub.execute_input": "2021-05-07T04:25:14.502953Z",
     "iopub.status.busy": "2021-05-07T04:25:14.502568Z",
     "iopub.status.idle": "2021-05-07T04:26:36.142698Z",
     "shell.execute_reply": "2021-05-07T04:26:36.141924Z",
     "shell.execute_reply.started": "2021-05-07T04:25:14.502914Z"
    },
    "tags": []
   },
   "outputs": [
    {
     "data": {
      "application/vnd.jupyter.widget-view+json": {
       "model_id": "2951bfba937b44e4b289bd97a9fb91f6",
       "version_major": 2,
       "version_minor": 0
      },
      "text/plain": [
       "                                             |          | [  0%]   00:00 -> (? left)"
      ]
     },
     "metadata": {},
     "output_type": "display_data"
    },
    {
     "name": "stdout",
     "output_type": "stream",
     "text": [
      "Report SWEETVIZ_REPORT.html was generated! NOTEBOOK/COLAB USERS: the web browser MAY not pop up, regardless, the report IS saved in your notebook/colab files.\n"
     ]
    }
   ],
   "source": [
    "sweetviz_report = sv.analyze(df)\n",
    "sweetviz_report.show_html()"
   ]
  },
  {
   "cell_type": "markdown",
   "id": "fc3b9dfb-0377-4807-bd71-08eb5a02d30b",
   "metadata": {},
   "source": [
    "# Connect to Postgres"
   ]
  },
  {
   "cell_type": "code",
   "execution_count": 3,
   "id": "4c47eb28-1502-4188-87f8-7424f306717f",
   "metadata": {
    "tags": []
   },
   "outputs": [],
   "source": [
    "POSTGRES_HOST=os.environ.get('POSTGRES_HOST')\n",
    "POSTGRES_PORT=os.environ.get('POSTGRES_PORT')\n",
    "POSTGRES_USERNAME=os.environ.get('POSTGRES_USERNAME')\n",
    "POSTGRES_PASSWORD=os.environ.get('POSTGRES_PASSWORD')\n",
    "POSTGRES_DB=os.environ.get('POSTGRES_DB')"
   ]
  },
  {
   "cell_type": "code",
   "execution_count": 4,
   "id": "5bf3b2d8-f3c7-4cc4-a047-91f8892bba10",
   "metadata": {},
   "outputs": [
    {
     "data": {
      "text/plain": [
       "'airflow'"
      ]
     },
     "execution_count": 4,
     "metadata": {},
     "output_type": "execute_result"
    }
   ],
   "source": [
    "POSTGRES_USERNAME"
   ]
  },
  {
   "cell_type": "code",
   "execution_count": 5,
   "id": "29e5f54e-9e3a-40b5-9e02-a70ef325c122",
   "metadata": {
    "tags": []
   },
   "outputs": [
    {
     "ename": "OperationalError",
     "evalue": "could not connect to server: Connection refused\n\tIs the server running on host \"localhost\" (127.0.0.1) and accepting\n\tTCP/IP connections on port 5432?\ncould not connect to server: Cannot assign requested address\n\tIs the server running on host \"localhost\" (::1) and accepting\n\tTCP/IP connections on port 5432?\n",
     "output_type": "error",
     "traceback": [
      "\u001b[0;31m---------------------------------------------------------------------------\u001b[0m",
      "\u001b[0;31mOperationalError\u001b[0m                          Traceback (most recent call last)",
      "\u001b[0;32m<ipython-input-5-edec9716e9c0>\u001b[0m in \u001b[0;36m<module>\u001b[0;34m\u001b[0m\n\u001b[0;32m----> 1\u001b[0;31m conn = psycopg2.connect(\n\u001b[0m\u001b[1;32m      2\u001b[0m     \u001b[0mhost\u001b[0m\u001b[0;34m=\u001b[0m\u001b[0mPOSTGRES_HOST\u001b[0m\u001b[0;34m,\u001b[0m\u001b[0;34m\u001b[0m\u001b[0;34m\u001b[0m\u001b[0m\n\u001b[1;32m      3\u001b[0m     \u001b[0mdatabase\u001b[0m\u001b[0;34m=\u001b[0m\u001b[0mPOSTGRES_DB\u001b[0m\u001b[0;34m,\u001b[0m\u001b[0;34m\u001b[0m\u001b[0;34m\u001b[0m\u001b[0m\n\u001b[1;32m      4\u001b[0m     \u001b[0muser\u001b[0m\u001b[0;34m=\u001b[0m\u001b[0mPOSTGRES_USERNAME\u001b[0m\u001b[0;34m,\u001b[0m\u001b[0;34m\u001b[0m\u001b[0;34m\u001b[0m\u001b[0m\n\u001b[1;32m      5\u001b[0m     \u001b[0mpassword\u001b[0m\u001b[0;34m=\u001b[0m\u001b[0mPOSTGRES_PASSWORD\u001b[0m\u001b[0;34m,\u001b[0m\u001b[0;34m\u001b[0m\u001b[0;34m\u001b[0m\u001b[0m\n",
      "\u001b[0;32m/opt/conda/lib/python3.8/site-packages/psycopg2/__init__.py\u001b[0m in \u001b[0;36mconnect\u001b[0;34m(dsn, connection_factory, cursor_factory, **kwargs)\u001b[0m\n\u001b[1;32m    125\u001b[0m \u001b[0;34m\u001b[0m\u001b[0m\n\u001b[1;32m    126\u001b[0m     \u001b[0mdsn\u001b[0m \u001b[0;34m=\u001b[0m \u001b[0m_ext\u001b[0m\u001b[0;34m.\u001b[0m\u001b[0mmake_dsn\u001b[0m\u001b[0;34m(\u001b[0m\u001b[0mdsn\u001b[0m\u001b[0;34m,\u001b[0m \u001b[0;34m**\u001b[0m\u001b[0mkwargs\u001b[0m\u001b[0;34m)\u001b[0m\u001b[0;34m\u001b[0m\u001b[0;34m\u001b[0m\u001b[0m\n\u001b[0;32m--> 127\u001b[0;31m     \u001b[0mconn\u001b[0m \u001b[0;34m=\u001b[0m \u001b[0m_connect\u001b[0m\u001b[0;34m(\u001b[0m\u001b[0mdsn\u001b[0m\u001b[0;34m,\u001b[0m \u001b[0mconnection_factory\u001b[0m\u001b[0;34m=\u001b[0m\u001b[0mconnection_factory\u001b[0m\u001b[0;34m,\u001b[0m \u001b[0;34m**\u001b[0m\u001b[0mkwasync\u001b[0m\u001b[0;34m)\u001b[0m\u001b[0;34m\u001b[0m\u001b[0;34m\u001b[0m\u001b[0m\n\u001b[0m\u001b[1;32m    128\u001b[0m     \u001b[0;32mif\u001b[0m \u001b[0mcursor_factory\u001b[0m \u001b[0;32mis\u001b[0m \u001b[0;32mnot\u001b[0m \u001b[0;32mNone\u001b[0m\u001b[0;34m:\u001b[0m\u001b[0;34m\u001b[0m\u001b[0;34m\u001b[0m\u001b[0m\n\u001b[1;32m    129\u001b[0m         \u001b[0mconn\u001b[0m\u001b[0;34m.\u001b[0m\u001b[0mcursor_factory\u001b[0m \u001b[0;34m=\u001b[0m \u001b[0mcursor_factory\u001b[0m\u001b[0;34m\u001b[0m\u001b[0;34m\u001b[0m\u001b[0m\n",
      "\u001b[0;31mOperationalError\u001b[0m: could not connect to server: Connection refused\n\tIs the server running on host \"localhost\" (127.0.0.1) and accepting\n\tTCP/IP connections on port 5432?\ncould not connect to server: Cannot assign requested address\n\tIs the server running on host \"localhost\" (::1) and accepting\n\tTCP/IP connections on port 5432?\n"
     ]
    }
   ],
   "source": [
    "conn = psycopg2.connect(\n",
    "    host=POSTGRES_HOST,\n",
    "    database=POSTGRES_DB,\n",
    "    user=POSTGRES_USERNAME,\n",
    "    password=POSTGRES_PASSWORD,\n",
    "    port=POSTGRES_PORT\n",
    ")\n",
    "\n",
    "conn"
   ]
  },
  {
   "cell_type": "code",
   "execution_count": null,
   "id": "255c7bba-c236-4f83-9e50-bb900e64ae7a",
   "metadata": {},
   "outputs": [],
   "source": []
  }
 ],
 "metadata": {
  "kernelspec": {
   "display_name": "Python 3",
   "language": "python",
   "name": "python3"
  },
  "language_info": {
   "codemirror_mode": {
    "name": "ipython",
    "version": 3
   },
   "file_extension": ".py",
   "mimetype": "text/x-python",
   "name": "python",
   "nbconvert_exporter": "python",
   "pygments_lexer": "ipython3",
   "version": "3.8.8"
  }
 },
 "nbformat": 4,
 "nbformat_minor": 5
}
